{
 "cells": [
  {
   "cell_type": "code",
   "execution_count": 133,
   "metadata": {},
   "outputs": [],
   "source": [
    "import numpy as np\n",
    "import pandas as pd\n",
    "import xgboost as xgb\n",
    "from sklearn.model_selection import train_test_split\n",
    "from sklearn.svm import SVC"
   ]
  },
  {
   "cell_type": "code",
   "execution_count": 29,
   "metadata": {},
   "outputs": [
    {
     "data": {
      "text/html": [
       "<div>\n",
       "<style>\n",
       "    .dataframe thead tr:only-child th {\n",
       "        text-align: right;\n",
       "    }\n",
       "\n",
       "    .dataframe thead th {\n",
       "        text-align: left;\n",
       "    }\n",
       "\n",
       "    .dataframe tbody tr th {\n",
       "        vertical-align: top;\n",
       "    }\n",
       "</style>\n",
       "<table border=\"1\" class=\"dataframe\">\n",
       "  <thead>\n",
       "    <tr style=\"text-align: right;\">\n",
       "      <th></th>\n",
       "      <th>0</th>\n",
       "      <th>1</th>\n",
       "      <th>2</th>\n",
       "    </tr>\n",
       "  </thead>\n",
       "  <tbody>\n",
       "    <tr>\n",
       "      <th>0</th>\n",
       "      <td>1478025745</td>\n",
       "      <td>715.000</td>\n",
       "      <td>0.002797</td>\n",
       "    </tr>\n",
       "    <tr>\n",
       "      <th>1</th>\n",
       "      <td>1478031460</td>\n",
       "      <td>720.000</td>\n",
       "      <td>0.001300</td>\n",
       "    </tr>\n",
       "    <tr>\n",
       "      <th>2</th>\n",
       "      <td>1478031491</td>\n",
       "      <td>720.199</td>\n",
       "      <td>0.001264</td>\n",
       "    </tr>\n",
       "    <tr>\n",
       "      <th>3</th>\n",
       "      <td>1478033362</td>\n",
       "      <td>720.199</td>\n",
       "      <td>0.002902</td>\n",
       "    </tr>\n",
       "    <tr>\n",
       "      <th>4</th>\n",
       "      <td>1478033362</td>\n",
       "      <td>720.200</td>\n",
       "      <td>0.001223</td>\n",
       "    </tr>\n",
       "  </tbody>\n",
       "</table>\n",
       "</div>"
      ],
      "text/plain": [
       "            0        1         2\n",
       "0  1478025745  715.000  0.002797\n",
       "1  1478031460  720.000  0.001300\n",
       "2  1478031491  720.199  0.001264\n",
       "3  1478033362  720.199  0.002902\n",
       "4  1478033362  720.200  0.001223"
      ]
     },
     "execution_count": 29,
     "metadata": {},
     "output_type": "execute_result"
    }
   ],
   "source": [
    "data1 = pd.read_csv('http://api.bitcoincharts.com/v1/csv/btcalphaUSD.csv.gz',header = None)\n",
    "data1.head()"
   ]
  },
  {
   "cell_type": "code",
   "execution_count": 30,
   "metadata": {
    "collapsed": true
   },
   "outputs": [],
   "source": [
    "data1['date'] = pd.to_datetime(data1[0],unit='s')\n",
    "data1.columns= ['timestamp','price','volume','date']\n",
    "data1  = data1[data1.timestamp>=1512950400]# after dec 24, 2017"
   ]
  },
  {
   "cell_type": "code",
   "execution_count": 31,
   "metadata": {},
   "outputs": [
    {
     "name": "stderr",
     "output_type": "stream",
     "text": [
      "C:\\Users\\user\\Anaconda3\\lib\\site-packages\\ipykernel_launcher.py:2: FutureWarning: how in .resample() is deprecated\n",
      "the new syntax is .resample(...).ohlc()\n",
      "  \n",
      "C:\\Users\\user\\Anaconda3\\lib\\site-packages\\ipykernel_launcher.py:3: FutureWarning: how in .resample() is deprecated\n",
      "the new syntax is .resample(...).sum()\n",
      "  This is separate from the ipykernel package so we can avoid doing imports until\n"
     ]
    }
   ],
   "source": [
    "data1.index = data1.date\n",
    "bars = data1.price.resample('60min', how='ohlc')\n",
    "volumes = data1.volume.resample('60min', how='sum')\n",
    "data1 = pd.concat([bars,volumes],axis=1)\n",
    "data1['date'] = data1.index"
   ]
  },
  {
   "cell_type": "code",
   "execution_count": 154,
   "metadata": {},
   "outputs": [
    {
     "data": {
      "text/html": [
       "<div>\n",
       "<style>\n",
       "    .dataframe thead tr:only-child th {\n",
       "        text-align: right;\n",
       "    }\n",
       "\n",
       "    .dataframe thead th {\n",
       "        text-align: left;\n",
       "    }\n",
       "\n",
       "    .dataframe tbody tr th {\n",
       "        vertical-align: top;\n",
       "    }\n",
       "</style>\n",
       "<table border=\"1\" class=\"dataframe\">\n",
       "  <thead>\n",
       "    <tr style=\"text-align: right;\">\n",
       "      <th></th>\n",
       "      <th>open</th>\n",
       "      <th>high</th>\n",
       "      <th>low</th>\n",
       "      <th>close</th>\n",
       "      <th>volume</th>\n",
       "      <th>date</th>\n",
       "      <th>ts</th>\n",
       "    </tr>\n",
       "    <tr>\n",
       "      <th>date</th>\n",
       "      <th></th>\n",
       "      <th></th>\n",
       "      <th></th>\n",
       "      <th></th>\n",
       "      <th></th>\n",
       "      <th></th>\n",
       "      <th></th>\n",
       "    </tr>\n",
       "  </thead>\n",
       "  <tbody>\n",
       "    <tr>\n",
       "      <th>2017-12-11 00:00:00</th>\n",
       "      <td>14938.0</td>\n",
       "      <td>15365.0</td>\n",
       "      <td>14938.0</td>\n",
       "      <td>15283.0</td>\n",
       "      <td>18.205027</td>\n",
       "      <td>2017-12-11 00:00:00</td>\n",
       "      <td>1512930600</td>\n",
       "    </tr>\n",
       "    <tr>\n",
       "      <th>2017-12-11 01:00:00</th>\n",
       "      <td>15286.0</td>\n",
       "      <td>15967.0</td>\n",
       "      <td>15286.0</td>\n",
       "      <td>15943.0</td>\n",
       "      <td>10.753708</td>\n",
       "      <td>2017-12-11 01:00:00</td>\n",
       "      <td>1512934200</td>\n",
       "    </tr>\n",
       "    <tr>\n",
       "      <th>2017-12-11 02:00:00</th>\n",
       "      <td>15996.0</td>\n",
       "      <td>16099.0</td>\n",
       "      <td>15717.0</td>\n",
       "      <td>16099.0</td>\n",
       "      <td>17.489776</td>\n",
       "      <td>2017-12-11 02:00:00</td>\n",
       "      <td>1512937800</td>\n",
       "    </tr>\n",
       "    <tr>\n",
       "      <th>2017-12-11 03:00:00</th>\n",
       "      <td>16099.0</td>\n",
       "      <td>16580.0</td>\n",
       "      <td>15797.0</td>\n",
       "      <td>15797.0</td>\n",
       "      <td>18.776254</td>\n",
       "      <td>2017-12-11 03:00:00</td>\n",
       "      <td>1512941400</td>\n",
       "    </tr>\n",
       "    <tr>\n",
       "      <th>2017-12-11 04:00:00</th>\n",
       "      <td>16200.0</td>\n",
       "      <td>16510.0</td>\n",
       "      <td>15820.0</td>\n",
       "      <td>16034.0</td>\n",
       "      <td>23.037675</td>\n",
       "      <td>2017-12-11 04:00:00</td>\n",
       "      <td>1512945000</td>\n",
       "    </tr>\n",
       "  </tbody>\n",
       "</table>\n",
       "</div>"
      ],
      "text/plain": [
       "                        open     high      low    close     volume  \\\n",
       "date                                                                 \n",
       "2017-12-11 00:00:00  14938.0  15365.0  14938.0  15283.0  18.205027   \n",
       "2017-12-11 01:00:00  15286.0  15967.0  15286.0  15943.0  10.753708   \n",
       "2017-12-11 02:00:00  15996.0  16099.0  15717.0  16099.0  17.489776   \n",
       "2017-12-11 03:00:00  16099.0  16580.0  15797.0  15797.0  18.776254   \n",
       "2017-12-11 04:00:00  16200.0  16510.0  15820.0  16034.0  23.037675   \n",
       "\n",
       "                                   date          ts  \n",
       "date                                                 \n",
       "2017-12-11 00:00:00 2017-12-11 00:00:00  1512930600  \n",
       "2017-12-11 01:00:00 2017-12-11 01:00:00  1512934200  \n",
       "2017-12-11 02:00:00 2017-12-11 02:00:00  1512937800  \n",
       "2017-12-11 03:00:00 2017-12-11 03:00:00  1512941400  \n",
       "2017-12-11 04:00:00 2017-12-11 04:00:00  1512945000  "
      ]
     },
     "execution_count": 154,
     "metadata": {},
     "output_type": "execute_result"
    }
   ],
   "source": [
    "data1.head()"
   ]
  },
  {
   "cell_type": "code",
   "execution_count": 33,
   "metadata": {},
   "outputs": [
    {
     "data": {
      "text/plain": [
       "(350, 6)"
      ]
     },
     "execution_count": 33,
     "metadata": {},
     "output_type": "execute_result"
    }
   ],
   "source": [
    "data2 = pd.read_csv('https://finance.google.com/finance/getprices?p=60d&i=3601&f=d,o,h,l,c,v&q=SP600',\n",
    "                    skiprows = 7,header = None)\n",
    "data2.shape"
   ]
  },
  {
   "cell_type": "code",
   "execution_count": 34,
   "metadata": {
    "collapsed": true
   },
   "outputs": [],
   "source": [
    "data2.columns =['date','open','close','high','low','vol']"
   ]
  },
  {
   "cell_type": "code",
   "execution_count": 35,
   "metadata": {
    "collapsed": true
   },
   "outputs": [],
   "source": [
    "data2['date'] = data2['date'].str[1:]"
   ]
  },
  {
   "cell_type": "code",
   "execution_count": 36,
   "metadata": {
    "collapsed": true
   },
   "outputs": [],
   "source": [
    "data2['date'] = pd.to_datetime(data2['date'],unit='s')"
   ]
  },
  {
   "cell_type": "code",
   "execution_count": 37,
   "metadata": {
    "collapsed": true,
    "scrolled": true
   },
   "outputs": [],
   "source": [
    " data1['ts']=data1[['date']].apply(lambda x: x[0].timestamp(), axis=1).astype(int)"
   ]
  },
  {
   "cell_type": "code",
   "execution_count": 38,
   "metadata": {
    "collapsed": true
   },
   "outputs": [],
   "source": [
    "data2['ts'] =data2[['date']].apply(lambda x: x[0].timestamp(), axis=1).astype(int)"
   ]
  },
  {
   "cell_type": "code",
   "execution_count": 39,
   "metadata": {
    "collapsed": true
   },
   "outputs": [],
   "source": [
    "final = data1.merge(data2 , on = 'ts')\n"
   ]
  },
  {
   "cell_type": "code",
   "execution_count": 51,
   "metadata": {
    "collapsed": true
   },
   "outputs": [],
   "source": [
    "final = final.drop(['date_x','ts','date_y'],axis=1)"
   ]
  },
  {
   "cell_type": "code",
   "execution_count": 63,
   "metadata": {
    "collapsed": true,
    "scrolled": true
   },
   "outputs": [],
   "source": [
    "corr_mat = final.corr()"
   ]
  },
  {
   "cell_type": "code",
   "execution_count": 80,
   "metadata": {
    "collapsed": true
   },
   "outputs": [],
   "source": [
    "corr_mat=corr_mat.iloc[0:5,5:10]"
   ]
  },
  {
   "cell_type": "code",
   "execution_count": 84,
   "metadata": {
    "collapsed": true
   },
   "outputs": [],
   "source": [
    "t = [0,0.5,0.2,0.2,0.1]*corr_mat.sum(axis=1)\n"
   ]
  },
  {
   "cell_type": "code",
   "execution_count": 87,
   "metadata": {},
   "outputs": [
    {
     "data": {
      "text/plain": [
       "open_x     0.000000\n",
       "high_x     0.237120\n",
       "low_x      0.093688\n",
       "close_x    0.093135\n",
       "volume    -0.016831\n",
       "dtype: float64"
      ]
     },
     "execution_count": 87,
     "metadata": {},
     "output_type": "execute_result"
    }
   ],
   "source": [
    "t"
   ]
  },
  {
   "cell_type": "code",
   "execution_count": 112,
   "metadata": {
    "collapsed": true,
    "scrolled": true
   },
   "outputs": [],
   "source": [
    "final['trade_pos/neg'] = np.zeros((350,1))"
   ]
  },
  {
   "cell_type": "code",
   "execution_count": 115,
   "metadata": {
    "collapsed": true
   },
   "outputs": [],
   "source": [
    "final['trade_pos/neg'] =np.where(final.close_y>final.open_y,1,0)"
   ]
  },
  {
   "cell_type": "code",
   "execution_count": 118,
   "metadata": {
    "collapsed": true
   },
   "outputs": [],
   "source": [
    "final_data =final.drop(['open_y','close_y','high_y','low_y','vol'],axis=1)"
   ]
  },
  {
   "cell_type": "code",
   "execution_count": 122,
   "metadata": {},
   "outputs": [],
   "source": [
    "X_train,X_test,y_train,y_test = train_test_split(final_data.drop(['trade_pos/neg'],axis=1),final_data['trade_pos/neg'],\n",
    "                                                 test_size=0.05, random_state=42)"
   ]
  },
  {
   "cell_type": "markdown",
   "metadata": {},
   "source": [
    "# Xgboost "
   ]
  },
  {
   "cell_type": "code",
   "execution_count": 152,
   "metadata": {
    "collapsed": true
   },
   "outputs": [
    {
     "name": "stdout",
     "output_type": "stream",
     "text": [
      "[0]\ttrain-merror:0.060241\ttest-merror:0\n",
      "[1]\ttrain-merror:0.060241\ttest-merror:0\n",
      "[2]\ttrain-merror:0.060241\ttest-merror:0\n",
      "[3]\ttrain-merror:0.060241\ttest-merror:0\n",
      "[4]\ttrain-merror:0.060241\ttest-merror:0\n",
      "[5]\ttrain-merror:0.060241\ttest-merror:0\n",
      "[6]\ttrain-merror:0.060241\ttest-merror:0\n",
      "[7]\ttrain-merror:0.060241\ttest-merror:0\n",
      "[8]\ttrain-merror:0.060241\ttest-merror:0\n",
      "[9]\ttrain-merror:0.060241\ttest-merror:0\n",
      "[10]\ttrain-merror:0.057229\ttest-merror:0\n",
      "[11]\ttrain-merror:0.060241\ttest-merror:0\n",
      "[12]\ttrain-merror:0.057229\ttest-merror:0\n",
      "[13]\ttrain-merror:0.057229\ttest-merror:0\n",
      "[14]\ttrain-merror:0.057229\ttest-merror:0\n",
      "[15]\ttrain-merror:0.057229\ttest-merror:0\n",
      "[16]\ttrain-merror:0.057229\ttest-merror:0\n",
      "[17]\ttrain-merror:0.057229\ttest-merror:0\n",
      "[18]\ttrain-merror:0.057229\ttest-merror:0\n",
      "[19]\ttrain-merror:0.057229\ttest-merror:0\n",
      "[20]\ttrain-merror:0.057229\ttest-merror:0\n",
      "[21]\ttrain-merror:0.057229\ttest-merror:0\n",
      "[22]\ttrain-merror:0.057229\ttest-merror:0\n",
      "[23]\ttrain-merror:0.057229\ttest-merror:0\n",
      "[24]\ttrain-merror:0.057229\ttest-merror:0\n",
      "[25]\ttrain-merror:0.057229\ttest-merror:0\n",
      "[26]\ttrain-merror:0.057229\ttest-merror:0\n",
      "[27]\ttrain-merror:0.057229\ttest-merror:0\n",
      "[28]\ttrain-merror:0.057229\ttest-merror:0\n",
      "[29]\ttrain-merror:0.057229\ttest-merror:0\n",
      "[30]\ttrain-merror:0.057229\ttest-merror:0\n",
      "[31]\ttrain-merror:0.057229\ttest-merror:0\n",
      "[32]\ttrain-merror:0.057229\ttest-merror:0\n",
      "[33]\ttrain-merror:0.057229\ttest-merror:0\n",
      "[34]\ttrain-merror:0.057229\ttest-merror:0\n",
      "[35]\ttrain-merror:0.057229\ttest-merror:0\n",
      "[36]\ttrain-merror:0.057229\ttest-merror:0\n",
      "[37]\ttrain-merror:0.057229\ttest-merror:0\n",
      "[38]\ttrain-merror:0.057229\ttest-merror:0\n",
      "[39]\ttrain-merror:0.057229\ttest-merror:0\n",
      "[40]\ttrain-merror:0.057229\ttest-merror:0\n",
      "[41]\ttrain-merror:0.057229\ttest-merror:0\n",
      "[42]\ttrain-merror:0.057229\ttest-merror:0\n",
      "[43]\ttrain-merror:0.057229\ttest-merror:0\n",
      "[44]\ttrain-merror:0.057229\ttest-merror:0\n",
      "[45]\ttrain-merror:0.057229\ttest-merror:0\n",
      "[46]\ttrain-merror:0.057229\ttest-merror:0\n",
      "[47]\ttrain-merror:0.057229\ttest-merror:0\n",
      "[48]\ttrain-merror:0.057229\ttest-merror:0\n",
      "[49]\ttrain-merror:0.057229\ttest-merror:0\n",
      "[50]\ttrain-merror:0.057229\ttest-merror:0\n",
      "[51]\ttrain-merror:0.057229\ttest-merror:0\n",
      "[52]\ttrain-merror:0.057229\ttest-merror:0\n",
      "[53]\ttrain-merror:0.057229\ttest-merror:0\n",
      "[54]\ttrain-merror:0.057229\ttest-merror:0\n",
      "[55]\ttrain-merror:0.057229\ttest-merror:0\n",
      "[56]\ttrain-merror:0.057229\ttest-merror:0\n",
      "[57]\ttrain-merror:0.057229\ttest-merror:0\n",
      "[58]\ttrain-merror:0.057229\ttest-merror:0\n",
      "[59]\ttrain-merror:0.057229\ttest-merror:0\n",
      "[60]\ttrain-merror:0.054217\ttest-merror:0\n",
      "[61]\ttrain-merror:0.054217\ttest-merror:0\n",
      "[62]\ttrain-merror:0.054217\ttest-merror:0\n",
      "[63]\ttrain-merror:0.054217\ttest-merror:0\n",
      "[64]\ttrain-merror:0.054217\ttest-merror:0\n",
      "[65]\ttrain-merror:0.054217\ttest-merror:0\n",
      "[66]\ttrain-merror:0.054217\ttest-merror:0\n",
      "[67]\ttrain-merror:0.054217\ttest-merror:0\n",
      "[68]\ttrain-merror:0.054217\ttest-merror:0\n",
      "[69]\ttrain-merror:0.054217\ttest-merror:0\n",
      "[70]\ttrain-merror:0.054217\ttest-merror:0\n",
      "[71]\ttrain-merror:0.054217\ttest-merror:0\n",
      "[72]\ttrain-merror:0.054217\ttest-merror:0\n",
      "[73]\ttrain-merror:0.054217\ttest-merror:0\n",
      "[74]\ttrain-merror:0.054217\ttest-merror:0\n",
      "[75]\ttrain-merror:0.051205\ttest-merror:0\n",
      "[76]\ttrain-merror:0.051205\ttest-merror:0\n",
      "[77]\ttrain-merror:0.051205\ttest-merror:0\n",
      "[78]\ttrain-merror:0.051205\ttest-merror:0\n",
      "[79]\ttrain-merror:0.051205\ttest-merror:0\n",
      "[80]\ttrain-merror:0.051205\ttest-merror:0\n",
      "[81]\ttrain-merror:0.051205\ttest-merror:0\n",
      "[82]\ttrain-merror:0.048193\ttest-merror:0\n",
      "[83]\ttrain-merror:0.048193\ttest-merror:0\n",
      "[84]\ttrain-merror:0.048193\ttest-merror:0\n",
      "[85]\ttrain-merror:0.048193\ttest-merror:0\n",
      "[86]\ttrain-merror:0.048193\ttest-merror:0\n",
      "[87]\ttrain-merror:0.048193\ttest-merror:0\n",
      "[88]\ttrain-merror:0.048193\ttest-merror:0\n",
      "[89]\ttrain-merror:0.048193\ttest-merror:0\n",
      "[90]\ttrain-merror:0.048193\ttest-merror:0\n",
      "[91]\ttrain-merror:0.045181\ttest-merror:0\n",
      "[92]\ttrain-merror:0.045181\ttest-merror:0\n",
      "[93]\ttrain-merror:0.045181\ttest-merror:0\n",
      "[94]\ttrain-merror:0.045181\ttest-merror:0\n",
      "[95]\ttrain-merror:0.045181\ttest-merror:0\n",
      "[96]\ttrain-merror:0.045181\ttest-merror:0\n",
      "[97]\ttrain-merror:0.045181\ttest-merror:0\n",
      "[98]\ttrain-merror:0.039157\ttest-merror:0\n",
      "[99]\ttrain-merror:0.039157\ttest-merror:0\n",
      "[100]\ttrain-merror:0.045181\ttest-merror:0\n",
      "[101]\ttrain-merror:0.039157\ttest-merror:0\n",
      "[102]\ttrain-merror:0.036145\ttest-merror:0.055556\n",
      "[103]\ttrain-merror:0.036145\ttest-merror:0.055556\n",
      "[104]\ttrain-merror:0.036145\ttest-merror:0.055556\n",
      "[105]\ttrain-merror:0.036145\ttest-merror:0.055556\n",
      "[106]\ttrain-merror:0.036145\ttest-merror:0.055556\n",
      "[107]\ttrain-merror:0.036145\ttest-merror:0.055556\n",
      "[108]\ttrain-merror:0.036145\ttest-merror:0.055556\n",
      "[109]\ttrain-merror:0.036145\ttest-merror:0.055556\n",
      "[110]\ttrain-merror:0.036145\ttest-merror:0.055556\n",
      "[111]\ttrain-merror:0.036145\ttest-merror:0.055556\n",
      "[112]\ttrain-merror:0.036145\ttest-merror:0.055556\n",
      "[113]\ttrain-merror:0.036145\ttest-merror:0.055556\n",
      "[114]\ttrain-merror:0.036145\ttest-merror:0.055556\n",
      "[115]\ttrain-merror:0.036145\ttest-merror:0.055556\n",
      "[116]\ttrain-merror:0.033133\ttest-merror:0.055556\n",
      "[117]\ttrain-merror:0.033133\ttest-merror:0.055556\n",
      "[118]\ttrain-merror:0.033133\ttest-merror:0.055556\n",
      "[119]\ttrain-merror:0.033133\ttest-merror:0.055556\n",
      "[120]\ttrain-merror:0.033133\ttest-merror:0.055556\n",
      "[121]\ttrain-merror:0.033133\ttest-merror:0.055556\n",
      "[122]\ttrain-merror:0.033133\ttest-merror:0.055556\n",
      "[123]\ttrain-merror:0.033133\ttest-merror:0.055556\n",
      "[124]\ttrain-merror:0.033133\ttest-merror:0.055556\n",
      "[125]\ttrain-merror:0.033133\ttest-merror:0.055556\n",
      "[126]\ttrain-merror:0.033133\ttest-merror:0.055556\n",
      "[127]\ttrain-merror:0.033133\ttest-merror:0.055556\n",
      "[128]\ttrain-merror:0.033133\ttest-merror:0.055556\n",
      "[129]\ttrain-merror:0.033133\ttest-merror:0.055556\n",
      "[130]\ttrain-merror:0.033133\ttest-merror:0.055556\n",
      "[131]\ttrain-merror:0.033133\ttest-merror:0.055556\n",
      "[132]\ttrain-merror:0.033133\ttest-merror:0.055556\n",
      "[133]\ttrain-merror:0.033133\ttest-merror:0.055556\n",
      "[134]\ttrain-merror:0.033133\ttest-merror:0.055556\n",
      "[135]\ttrain-merror:0.027108\ttest-merror:0.055556\n",
      "[136]\ttrain-merror:0.027108\ttest-merror:0.055556\n",
      "[137]\ttrain-merror:0.027108\ttest-merror:0.055556\n",
      "[138]\ttrain-merror:0.027108\ttest-merror:0.055556\n",
      "[139]\ttrain-merror:0.027108\ttest-merror:0.055556\n",
      "[140]\ttrain-merror:0.027108\ttest-merror:0.055556\n",
      "[141]\ttrain-merror:0.027108\ttest-merror:0.055556\n",
      "[142]\ttrain-merror:0.027108\ttest-merror:0.055556\n",
      "[143]\ttrain-merror:0.027108\ttest-merror:0.055556\n",
      "[144]\ttrain-merror:0.027108\ttest-merror:0.055556\n",
      "[145]\ttrain-merror:0.027108\ttest-merror:0.055556\n",
      "[146]\ttrain-merror:0.027108\ttest-merror:0.055556\n",
      "[147]\ttrain-merror:0.027108\ttest-merror:0.055556\n",
      "[148]\ttrain-merror:0.024096\ttest-merror:0.055556\n",
      "[149]\ttrain-merror:0.027108\ttest-merror:0.055556\n",
      "[150]\ttrain-merror:0.027108\ttest-merror:0.055556\n",
      "[151]\ttrain-merror:0.024096\ttest-merror:0.055556\n",
      "[152]\ttrain-merror:0.024096\ttest-merror:0.055556\n",
      "[153]\ttrain-merror:0.024096\ttest-merror:0.055556\n",
      "[154]\ttrain-merror:0.024096\ttest-merror:0.055556\n",
      "[155]\ttrain-merror:0.024096\ttest-merror:0.055556\n",
      "[156]\ttrain-merror:0.024096\ttest-merror:0.055556\n",
      "[157]\ttrain-merror:0.024096\ttest-merror:0.055556\n",
      "[158]\ttrain-merror:0.024096\ttest-merror:0.055556\n",
      "[159]\ttrain-merror:0.024096\ttest-merror:0.055556\n",
      "[160]\ttrain-merror:0.024096\ttest-merror:0.055556\n",
      "[161]\ttrain-merror:0.024096\ttest-merror:0.055556\n",
      "[162]\ttrain-merror:0.024096\ttest-merror:0.055556\n",
      "[163]\ttrain-merror:0.024096\ttest-merror:0.055556\n",
      "[164]\ttrain-merror:0.024096\ttest-merror:0.055556\n",
      "[165]\ttrain-merror:0.024096\ttest-merror:0.055556\n",
      "[166]\ttrain-merror:0.021084\ttest-merror:0.055556\n",
      "[167]\ttrain-merror:0.021084\ttest-merror:0.055556\n",
      "[168]\ttrain-merror:0.021084\ttest-merror:0.055556\n",
      "[169]\ttrain-merror:0.021084\ttest-merror:0.055556\n",
      "[170]\ttrain-merror:0.021084\ttest-merror:0.055556\n",
      "[171]\ttrain-merror:0.021084\ttest-merror:0.055556\n",
      "[172]\ttrain-merror:0.021084\ttest-merror:0.055556\n",
      "[173]\ttrain-merror:0.021084\ttest-merror:0.055556\n",
      "[174]\ttrain-merror:0.021084\ttest-merror:0.055556\n",
      "[175]\ttrain-merror:0.018072\ttest-merror:0.055556\n",
      "[176]\ttrain-merror:0.018072\ttest-merror:0.055556\n",
      "[177]\ttrain-merror:0.018072\ttest-merror:0.055556\n",
      "[178]\ttrain-merror:0.018072\ttest-merror:0.055556\n",
      "[179]\ttrain-merror:0.018072\ttest-merror:0.055556\n",
      "[180]\ttrain-merror:0.01506\ttest-merror:0.055556\n",
      "[181]\ttrain-merror:0.01506\ttest-merror:0.055556\n",
      "[182]\ttrain-merror:0.01506\ttest-merror:0.055556\n",
      "[183]\ttrain-merror:0.01506\ttest-merror:0.055556\n",
      "[184]\ttrain-merror:0.01506\ttest-merror:0.055556\n"
     ]
    },
    {
     "name": "stdout",
     "output_type": "stream",
     "text": [
      "[185]\ttrain-merror:0.01506\ttest-merror:0.055556\n",
      "[186]\ttrain-merror:0.01506\ttest-merror:0.055556\n",
      "[187]\ttrain-merror:0.01506\ttest-merror:0.055556\n",
      "[188]\ttrain-merror:0.01506\ttest-merror:0.055556\n",
      "[189]\ttrain-merror:0.01506\ttest-merror:0.055556\n",
      "[190]\ttrain-merror:0.01506\ttest-merror:0.055556\n",
      "[191]\ttrain-merror:0.01506\ttest-merror:0.055556\n",
      "[192]\ttrain-merror:0.01506\ttest-merror:0.055556\n",
      "[193]\ttrain-merror:0.01506\ttest-merror:0.055556\n",
      "[194]\ttrain-merror:0.009036\ttest-merror:0.055556\n",
      "[195]\ttrain-merror:0.009036\ttest-merror:0.055556\n",
      "[196]\ttrain-merror:0.009036\ttest-merror:0.055556\n",
      "[197]\ttrain-merror:0.009036\ttest-merror:0.055556\n",
      "[198]\ttrain-merror:0.009036\ttest-merror:0.055556\n",
      "[199]\ttrain-merror:0.009036\ttest-merror:0.055556\n",
      "[200]\ttrain-merror:0.006024\ttest-merror:0.055556\n",
      "[201]\ttrain-merror:0.006024\ttest-merror:0.055556\n",
      "[202]\ttrain-merror:0.006024\ttest-merror:0.055556\n",
      "[203]\ttrain-merror:0.006024\ttest-merror:0.055556\n",
      "[204]\ttrain-merror:0.006024\ttest-merror:0.055556\n",
      "[205]\ttrain-merror:0.006024\ttest-merror:0.055556\n",
      "[206]\ttrain-merror:0.006024\ttest-merror:0.055556\n",
      "[207]\ttrain-merror:0.006024\ttest-merror:0.055556\n",
      "[208]\ttrain-merror:0.006024\ttest-merror:0.055556\n",
      "[209]\ttrain-merror:0.006024\ttest-merror:0.055556\n",
      "[210]\ttrain-merror:0.006024\ttest-merror:0.055556\n",
      "[211]\ttrain-merror:0.006024\ttest-merror:0.055556\n",
      "[212]\ttrain-merror:0.006024\ttest-merror:0.055556\n",
      "[213]\ttrain-merror:0.006024\ttest-merror:0.055556\n",
      "[214]\ttrain-merror:0.006024\ttest-merror:0.055556\n",
      "[215]\ttrain-merror:0.006024\ttest-merror:0.055556\n",
      "[216]\ttrain-merror:0.006024\ttest-merror:0.055556\n",
      "[217]\ttrain-merror:0.006024\ttest-merror:0.055556\n",
      "[218]\ttrain-merror:0.006024\ttest-merror:0.055556\n",
      "[219]\ttrain-merror:0.006024\ttest-merror:0.055556\n",
      "[220]\ttrain-merror:0.006024\ttest-merror:0.055556\n",
      "[221]\ttrain-merror:0.006024\ttest-merror:0.055556\n",
      "[222]\ttrain-merror:0.006024\ttest-merror:0.055556\n",
      "[223]\ttrain-merror:0.006024\ttest-merror:0.055556\n",
      "[224]\ttrain-merror:0.006024\ttest-merror:0.055556\n",
      "[225]\ttrain-merror:0.006024\ttest-merror:0.055556\n",
      "[226]\ttrain-merror:0.006024\ttest-merror:0.055556\n",
      "[227]\ttrain-merror:0.006024\ttest-merror:0.055556\n",
      "[228]\ttrain-merror:0.006024\ttest-merror:0.055556\n",
      "[229]\ttrain-merror:0.006024\ttest-merror:0.055556\n",
      "[230]\ttrain-merror:0.006024\ttest-merror:0.055556\n",
      "[231]\ttrain-merror:0.006024\ttest-merror:0.055556\n",
      "[232]\ttrain-merror:0.006024\ttest-merror:0.055556\n",
      "[233]\ttrain-merror:0.006024\ttest-merror:0.055556\n",
      "[234]\ttrain-merror:0.006024\ttest-merror:0.055556\n",
      "[235]\ttrain-merror:0.003012\ttest-merror:0.055556\n",
      "[236]\ttrain-merror:0.003012\ttest-merror:0.055556\n",
      "[237]\ttrain-merror:0.003012\ttest-merror:0.055556\n",
      "[238]\ttrain-merror:0.003012\ttest-merror:0.055556\n",
      "[239]\ttrain-merror:0.003012\ttest-merror:0.055556\n",
      "[240]\ttrain-merror:0.003012\ttest-merror:0.055556\n",
      "[241]\ttrain-merror:0.003012\ttest-merror:0.055556\n",
      "[242]\ttrain-merror:0.003012\ttest-merror:0.055556\n",
      "[243]\ttrain-merror:0.003012\ttest-merror:0.055556\n",
      "[244]\ttrain-merror:0.003012\ttest-merror:0.055556\n",
      "[245]\ttrain-merror:0.003012\ttest-merror:0.055556\n",
      "[246]\ttrain-merror:0.003012\ttest-merror:0.055556\n",
      "[247]\ttrain-merror:0.003012\ttest-merror:0.055556\n",
      "[248]\ttrain-merror:0.003012\ttest-merror:0.055556\n",
      "[249]\ttrain-merror:0.003012\ttest-merror:0.055556\n",
      "[250]\ttrain-merror:0.003012\ttest-merror:0.055556\n",
      "[251]\ttrain-merror:0.003012\ttest-merror:0.055556\n",
      "[252]\ttrain-merror:0.003012\ttest-merror:0.055556\n",
      "[253]\ttrain-merror:0.003012\ttest-merror:0.055556\n",
      "[254]\ttrain-merror:0.003012\ttest-merror:0.055556\n",
      "[255]\ttrain-merror:0.003012\ttest-merror:0.055556\n",
      "[256]\ttrain-merror:0.003012\ttest-merror:0.055556\n",
      "[257]\ttrain-merror:0.003012\ttest-merror:0.055556\n",
      "[258]\ttrain-merror:0.003012\ttest-merror:0.055556\n",
      "[259]\ttrain-merror:0.003012\ttest-merror:0.055556\n",
      "[260]\ttrain-merror:0.003012\ttest-merror:0.055556\n",
      "[261]\ttrain-merror:0.003012\ttest-merror:0.055556\n",
      "[262]\ttrain-merror:0.003012\ttest-merror:0.055556\n",
      "[263]\ttrain-merror:0.003012\ttest-merror:0.055556\n",
      "[264]\ttrain-merror:0.003012\ttest-merror:0.055556\n",
      "[265]\ttrain-merror:0.003012\ttest-merror:0.055556\n",
      "[266]\ttrain-merror:0.003012\ttest-merror:0.055556\n",
      "[267]\ttrain-merror:0.003012\ttest-merror:0.055556\n",
      "[268]\ttrain-merror:0.003012\ttest-merror:0.055556\n",
      "[269]\ttrain-merror:0.003012\ttest-merror:0.055556\n",
      "[270]\ttrain-merror:0.003012\ttest-merror:0.055556\n",
      "[271]\ttrain-merror:0.003012\ttest-merror:0.055556\n",
      "[272]\ttrain-merror:0.003012\ttest-merror:0.055556\n",
      "[273]\ttrain-merror:0.003012\ttest-merror:0.055556\n",
      "[274]\ttrain-merror:0.003012\ttest-merror:0.055556\n",
      "[275]\ttrain-merror:0.003012\ttest-merror:0.055556\n",
      "[276]\ttrain-merror:0.003012\ttest-merror:0.055556\n",
      "[277]\ttrain-merror:0.003012\ttest-merror:0.055556\n",
      "[278]\ttrain-merror:0.003012\ttest-merror:0.055556\n",
      "[279]\ttrain-merror:0.003012\ttest-merror:0.055556\n",
      "[280]\ttrain-merror:0.003012\ttest-merror:0.055556\n",
      "[281]\ttrain-merror:0.003012\ttest-merror:0.055556\n",
      "[282]\ttrain-merror:0.003012\ttest-merror:0.055556\n",
      "[283]\ttrain-merror:0.003012\ttest-merror:0.055556\n",
      "[284]\ttrain-merror:0.003012\ttest-merror:0.055556\n",
      "[285]\ttrain-merror:0.003012\ttest-merror:0.055556\n",
      "[286]\ttrain-merror:0.003012\ttest-merror:0.055556\n",
      "[287]\ttrain-merror:0.003012\ttest-merror:0.055556\n",
      "[288]\ttrain-merror:0.003012\ttest-merror:0.055556\n",
      "[289]\ttrain-merror:0.003012\ttest-merror:0.055556\n",
      "[290]\ttrain-merror:0.003012\ttest-merror:0.055556\n",
      "[291]\ttrain-merror:0.003012\ttest-merror:0.055556\n",
      "[292]\ttrain-merror:0.003012\ttest-merror:0.055556\n",
      "[293]\ttrain-merror:0.003012\ttest-merror:0.055556\n",
      "[294]\ttrain-merror:0.003012\ttest-merror:0.055556\n",
      "[295]\ttrain-merror:0.003012\ttest-merror:0.055556\n",
      "[296]\ttrain-merror:0.003012\ttest-merror:0.055556\n",
      "[297]\ttrain-merror:0.003012\ttest-merror:0.055556\n",
      "[298]\ttrain-merror:0.003012\ttest-merror:0.055556\n",
      "[299]\ttrain-merror:0.003012\ttest-merror:0.055556\n",
      "[300]\ttrain-merror:0.003012\ttest-merror:0.055556\n",
      "[301]\ttrain-merror:0.003012\ttest-merror:0.055556\n",
      "[302]\ttrain-merror:0.003012\ttest-merror:0.055556\n",
      "[303]\ttrain-merror:0.003012\ttest-merror:0.055556\n",
      "[304]\ttrain-merror:0.003012\ttest-merror:0.055556\n",
      "[305]\ttrain-merror:0.003012\ttest-merror:0.055556\n",
      "[306]\ttrain-merror:0.003012\ttest-merror:0.055556\n",
      "[307]\ttrain-merror:0.003012\ttest-merror:0.055556\n",
      "[308]\ttrain-merror:0.003012\ttest-merror:0.055556\n",
      "[309]\ttrain-merror:0.003012\ttest-merror:0.055556\n",
      "[310]\ttrain-merror:0.003012\ttest-merror:0.055556\n",
      "[311]\ttrain-merror:0.003012\ttest-merror:0.055556\n",
      "[312]\ttrain-merror:0.003012\ttest-merror:0.055556\n",
      "[313]\ttrain-merror:0.003012\ttest-merror:0.055556\n",
      "[314]\ttrain-merror:0.003012\ttest-merror:0.055556\n",
      "[315]\ttrain-merror:0.003012\ttest-merror:0.055556\n",
      "[316]\ttrain-merror:0.003012\ttest-merror:0.055556\n",
      "[317]\ttrain-merror:0.003012\ttest-merror:0.055556\n",
      "[318]\ttrain-merror:0.003012\ttest-merror:0.055556\n",
      "[319]\ttrain-merror:0.003012\ttest-merror:0.055556\n",
      "[320]\ttrain-merror:0.003012\ttest-merror:0.055556\n",
      "[321]\ttrain-merror:0.003012\ttest-merror:0.055556\n",
      "[322]\ttrain-merror:0.003012\ttest-merror:0.055556\n",
      "[323]\ttrain-merror:0.003012\ttest-merror:0.055556\n",
      "[324]\ttrain-merror:0.003012\ttest-merror:0.055556\n",
      "[325]\ttrain-merror:0.003012\ttest-merror:0.055556\n",
      "[326]\ttrain-merror:0.003012\ttest-merror:0.055556\n",
      "[327]\ttrain-merror:0.003012\ttest-merror:0.055556\n",
      "[328]\ttrain-merror:0.003012\ttest-merror:0.055556\n",
      "[329]\ttrain-merror:0.003012\ttest-merror:0.055556\n",
      "[330]\ttrain-merror:0.003012\ttest-merror:0.055556\n",
      "[331]\ttrain-merror:0.003012\ttest-merror:0.055556\n",
      "[332]\ttrain-merror:0.003012\ttest-merror:0.055556\n",
      "[333]\ttrain-merror:0.003012\ttest-merror:0.055556\n",
      "[334]\ttrain-merror:0.003012\ttest-merror:0.055556\n",
      "[335]\ttrain-merror:0.003012\ttest-merror:0.055556\n",
      "[336]\ttrain-merror:0.003012\ttest-merror:0.055556\n",
      "[337]\ttrain-merror:0.003012\ttest-merror:0.055556\n",
      "[338]\ttrain-merror:0.003012\ttest-merror:0.055556\n",
      "[339]\ttrain-merror:0.003012\ttest-merror:0.055556\n",
      "[340]\ttrain-merror:0.003012\ttest-merror:0.055556\n",
      "[341]\ttrain-merror:0.003012\ttest-merror:0.055556\n",
      "[342]\ttrain-merror:0.003012\ttest-merror:0.055556\n",
      "[343]\ttrain-merror:0.003012\ttest-merror:0.055556\n",
      "[344]\ttrain-merror:0.003012\ttest-merror:0.055556\n",
      "[345]\ttrain-merror:0.003012\ttest-merror:0.055556\n",
      "[346]\ttrain-merror:0.003012\ttest-merror:0.055556\n",
      "[347]\ttrain-merror:0.003012\ttest-merror:0.055556\n",
      "[348]\ttrain-merror:0.003012\ttest-merror:0.055556\n",
      "[349]\ttrain-merror:0.003012\ttest-merror:0.055556\n",
      "[350]\ttrain-merror:0.003012\ttest-merror:0.055556\n",
      "[351]\ttrain-merror:0.003012\ttest-merror:0.055556\n",
      "[352]\ttrain-merror:0.003012\ttest-merror:0.055556\n"
     ]
    },
    {
     "name": "stdout",
     "output_type": "stream",
     "text": [
      "[353]\ttrain-merror:0.003012\ttest-merror:0.055556\n",
      "[354]\ttrain-merror:0.003012\ttest-merror:0.055556\n",
      "[355]\ttrain-merror:0.003012\ttest-merror:0.055556\n",
      "[356]\ttrain-merror:0.003012\ttest-merror:0.055556\n",
      "[357]\ttrain-merror:0.003012\ttest-merror:0.055556\n",
      "[358]\ttrain-merror:0.003012\ttest-merror:0.055556\n",
      "[359]\ttrain-merror:0.003012\ttest-merror:0.055556\n",
      "[360]\ttrain-merror:0.003012\ttest-merror:0.055556\n",
      "[361]\ttrain-merror:0.003012\ttest-merror:0.055556\n",
      "[362]\ttrain-merror:0.003012\ttest-merror:0.055556\n",
      "[363]\ttrain-merror:0.003012\ttest-merror:0.055556\n",
      "[364]\ttrain-merror:0.003012\ttest-merror:0.055556\n",
      "[365]\ttrain-merror:0.003012\ttest-merror:0.055556\n",
      "[366]\ttrain-merror:0.003012\ttest-merror:0.055556\n",
      "[367]\ttrain-merror:0.003012\ttest-merror:0.055556\n",
      "[368]\ttrain-merror:0.003012\ttest-merror:0.055556\n",
      "[369]\ttrain-merror:0.003012\ttest-merror:0.055556\n",
      "[370]\ttrain-merror:0.003012\ttest-merror:0.055556\n",
      "[371]\ttrain-merror:0.003012\ttest-merror:0.055556\n",
      "[372]\ttrain-merror:0.003012\ttest-merror:0.055556\n",
      "[373]\ttrain-merror:0.003012\ttest-merror:0.055556\n",
      "[374]\ttrain-merror:0.003012\ttest-merror:0.055556\n",
      "[375]\ttrain-merror:0.003012\ttest-merror:0.055556\n",
      "[376]\ttrain-merror:0.003012\ttest-merror:0.055556\n",
      "[377]\ttrain-merror:0.003012\ttest-merror:0.055556\n",
      "[378]\ttrain-merror:0.003012\ttest-merror:0.055556\n",
      "[379]\ttrain-merror:0.003012\ttest-merror:0.055556\n",
      "[380]\ttrain-merror:0.003012\ttest-merror:0.055556\n",
      "[381]\ttrain-merror:0.003012\ttest-merror:0.055556\n",
      "[382]\ttrain-merror:0.003012\ttest-merror:0.055556\n",
      "[383]\ttrain-merror:0.003012\ttest-merror:0.055556\n",
      "[384]\ttrain-merror:0.003012\ttest-merror:0.055556\n",
      "[385]\ttrain-merror:0.003012\ttest-merror:0.055556\n",
      "[386]\ttrain-merror:0.003012\ttest-merror:0.055556\n",
      "[387]\ttrain-merror:0.003012\ttest-merror:0.055556\n",
      "[388]\ttrain-merror:0.003012\ttest-merror:0.055556\n",
      "[389]\ttrain-merror:0.003012\ttest-merror:0.055556\n",
      "[390]\ttrain-merror:0.003012\ttest-merror:0.055556\n",
      "[391]\ttrain-merror:0.003012\ttest-merror:0.055556\n",
      "[392]\ttrain-merror:0.003012\ttest-merror:0.055556\n",
      "[393]\ttrain-merror:0.003012\ttest-merror:0.055556\n",
      "[394]\ttrain-merror:0.003012\ttest-merror:0.055556\n",
      "[395]\ttrain-merror:0.003012\ttest-merror:0.055556\n",
      "[396]\ttrain-merror:0.003012\ttest-merror:0.055556\n",
      "[397]\ttrain-merror:0.003012\ttest-merror:0.055556\n",
      "[398]\ttrain-merror:0.003012\ttest-merror:0.055556\n",
      "[399]\ttrain-merror:0.003012\ttest-merror:0.055556\n",
      "[400]\ttrain-merror:0.003012\ttest-merror:0.055556\n",
      "[401]\ttrain-merror:0.003012\ttest-merror:0.055556\n",
      "[402]\ttrain-merror:0.003012\ttest-merror:0.055556\n",
      "[403]\ttrain-merror:0.003012\ttest-merror:0.055556\n",
      "[404]\ttrain-merror:0.003012\ttest-merror:0.055556\n",
      "[405]\ttrain-merror:0.003012\ttest-merror:0.055556\n",
      "[406]\ttrain-merror:0.003012\ttest-merror:0.055556\n",
      "[407]\ttrain-merror:0.003012\ttest-merror:0.055556\n",
      "[408]\ttrain-merror:0.003012\ttest-merror:0.055556\n",
      "[409]\ttrain-merror:0.003012\ttest-merror:0.055556\n",
      "[410]\ttrain-merror:0.003012\ttest-merror:0.055556\n",
      "[411]\ttrain-merror:0.003012\ttest-merror:0.055556\n",
      "[412]\ttrain-merror:0.003012\ttest-merror:0.055556\n",
      "[413]\ttrain-merror:0.003012\ttest-merror:0.055556\n",
      "[414]\ttrain-merror:0.003012\ttest-merror:0.055556\n",
      "[415]\ttrain-merror:0.003012\ttest-merror:0.055556\n",
      "[416]\ttrain-merror:0.003012\ttest-merror:0.055556\n",
      "[417]\ttrain-merror:0.003012\ttest-merror:0.055556\n",
      "[418]\ttrain-merror:0.003012\ttest-merror:0.055556\n",
      "[419]\ttrain-merror:0.003012\ttest-merror:0.055556\n",
      "[420]\ttrain-merror:0.003012\ttest-merror:0.055556\n",
      "[421]\ttrain-merror:0.003012\ttest-merror:0.055556\n",
      "[422]\ttrain-merror:0.003012\ttest-merror:0.055556\n",
      "[423]\ttrain-merror:0.003012\ttest-merror:0.055556\n",
      "[424]\ttrain-merror:0.003012\ttest-merror:0.055556\n",
      "[425]\ttrain-merror:0.003012\ttest-merror:0.055556\n",
      "[426]\ttrain-merror:0.003012\ttest-merror:0.055556\n",
      "[427]\ttrain-merror:0.003012\ttest-merror:0.055556\n",
      "[428]\ttrain-merror:0.003012\ttest-merror:0.055556\n",
      "[429]\ttrain-merror:0.003012\ttest-merror:0.055556\n",
      "[430]\ttrain-merror:0.003012\ttest-merror:0.055556\n",
      "[431]\ttrain-merror:0.003012\ttest-merror:0.055556\n",
      "[432]\ttrain-merror:0.003012\ttest-merror:0.055556\n",
      "[433]\ttrain-merror:0.003012\ttest-merror:0.055556\n",
      "[434]\ttrain-merror:0.003012\ttest-merror:0.055556\n",
      "[435]\ttrain-merror:0.003012\ttest-merror:0.055556\n",
      "[436]\ttrain-merror:0.003012\ttest-merror:0.055556\n",
      "[437]\ttrain-merror:0.003012\ttest-merror:0.055556\n",
      "[438]\ttrain-merror:0.003012\ttest-merror:0.055556\n",
      "[439]\ttrain-merror:0.003012\ttest-merror:0.055556\n",
      "[440]\ttrain-merror:0.003012\ttest-merror:0.055556\n",
      "[441]\ttrain-merror:0.003012\ttest-merror:0.055556\n",
      "[442]\ttrain-merror:0.003012\ttest-merror:0.055556\n",
      "[443]\ttrain-merror:0.003012\ttest-merror:0.055556\n",
      "[444]\ttrain-merror:0.003012\ttest-merror:0.055556\n",
      "[445]\ttrain-merror:0.003012\ttest-merror:0.055556\n",
      "[446]\ttrain-merror:0.003012\ttest-merror:0.055556\n",
      "[447]\ttrain-merror:0.003012\ttest-merror:0.055556\n",
      "[448]\ttrain-merror:0.003012\ttest-merror:0.055556\n",
      "[449]\ttrain-merror:0.003012\ttest-merror:0.055556\n",
      "[450]\ttrain-merror:0.003012\ttest-merror:0.055556\n",
      "[451]\ttrain-merror:0.003012\ttest-merror:0.055556\n",
      "[452]\ttrain-merror:0.003012\ttest-merror:0.055556\n",
      "[453]\ttrain-merror:0.003012\ttest-merror:0.055556\n",
      "[454]\ttrain-merror:0.003012\ttest-merror:0.055556\n",
      "[455]\ttrain-merror:0.003012\ttest-merror:0.055556\n",
      "[456]\ttrain-merror:0.003012\ttest-merror:0.055556\n",
      "[457]\ttrain-merror:0.003012\ttest-merror:0.055556\n",
      "[458]\ttrain-merror:0.003012\ttest-merror:0.055556\n",
      "[459]\ttrain-merror:0.003012\ttest-merror:0.055556\n",
      "[460]\ttrain-merror:0.003012\ttest-merror:0.055556\n",
      "[461]\ttrain-merror:0.003012\ttest-merror:0.055556\n",
      "[462]\ttrain-merror:0.003012\ttest-merror:0.055556\n",
      "[463]\ttrain-merror:0.003012\ttest-merror:0.055556\n",
      "[464]\ttrain-merror:0.003012\ttest-merror:0.055556\n",
      "[465]\ttrain-merror:0.003012\ttest-merror:0.055556\n",
      "[466]\ttrain-merror:0.003012\ttest-merror:0.055556\n",
      "[467]\ttrain-merror:0.003012\ttest-merror:0.055556\n",
      "[468]\ttrain-merror:0.003012\ttest-merror:0.055556\n",
      "[469]\ttrain-merror:0.003012\ttest-merror:0.055556\n",
      "[470]\ttrain-merror:0.003012\ttest-merror:0.055556\n",
      "[471]\ttrain-merror:0.003012\ttest-merror:0.055556\n",
      "[472]\ttrain-merror:0.003012\ttest-merror:0.055556\n",
      "[473]\ttrain-merror:0.003012\ttest-merror:0.055556\n",
      "[474]\ttrain-merror:0.003012\ttest-merror:0.055556\n",
      "[475]\ttrain-merror:0.003012\ttest-merror:0.055556\n",
      "[476]\ttrain-merror:0.003012\ttest-merror:0.055556\n",
      "[477]\ttrain-merror:0.003012\ttest-merror:0.055556\n",
      "[478]\ttrain-merror:0.003012\ttest-merror:0.055556\n",
      "[479]\ttrain-merror:0.003012\ttest-merror:0.055556\n",
      "[480]\ttrain-merror:0.003012\ttest-merror:0.055556\n",
      "[481]\ttrain-merror:0.003012\ttest-merror:0.055556\n",
      "[482]\ttrain-merror:0.003012\ttest-merror:0.055556\n",
      "[483]\ttrain-merror:0.003012\ttest-merror:0.055556\n",
      "[484]\ttrain-merror:0.003012\ttest-merror:0.055556\n",
      "[485]\ttrain-merror:0.003012\ttest-merror:0.055556\n",
      "[486]\ttrain-merror:0.003012\ttest-merror:0.055556\n",
      "[487]\ttrain-merror:0.003012\ttest-merror:0.055556\n",
      "[488]\ttrain-merror:0.003012\ttest-merror:0.055556\n",
      "[489]\ttrain-merror:0.003012\ttest-merror:0.055556\n",
      "[490]\ttrain-merror:0.003012\ttest-merror:0.055556\n",
      "[491]\ttrain-merror:0.003012\ttest-merror:0.055556\n",
      "[492]\ttrain-merror:0.003012\ttest-merror:0.055556\n",
      "[493]\ttrain-merror:0.003012\ttest-merror:0.055556\n",
      "[494]\ttrain-merror:0.003012\ttest-merror:0.055556\n",
      "[495]\ttrain-merror:0.003012\ttest-merror:0.055556\n",
      "[496]\ttrain-merror:0.003012\ttest-merror:0.055556\n",
      "[497]\ttrain-merror:0.003012\ttest-merror:0.055556\n",
      "[498]\ttrain-merror:0.003012\ttest-merror:0.055556\n",
      "[499]\ttrain-merror:0.003012\ttest-merror:0.055556\n",
      "Test error = 0.05555555555555555\n"
     ]
    }
   ],
   "source": [
    "xg_train = xgb.DMatrix(X_train,label =y_train)\n",
    "xg_test = xgb.DMatrix(X_test,label=y_test)\n",
    "param ={}\n",
    "\n",
    "param['objective'] = 'multi:softmax'  #  'multi:softprob' for predict probability\n",
    "param['eta'] = 0.1\n",
    "param['max_depth'] = 3\n",
    "param['silent'] = 0\n",
    "param['nthread'] = 4\n",
    "\n",
    "\n",
    "param['num_class'] = 2\n",
    "watchlist = [(xg_train, 'train'), (xg_test, 'test')]\n",
    "num_round = 500\n",
    "\n",
    "bst = xgb.train(param, xg_train, num_round, watchlist)\n",
    "pred = bst.predict(xg_test)\n",
    "error = np.sum(pred != y_test) / y_test.shape[0]\n",
    "print('Test error = {}'.format(error))"
   ]
  },
  {
   "cell_type": "markdown",
   "metadata": {},
   "source": [
    "#  SVM"
   ]
  },
  {
   "cell_type": "code",
   "execution_count": 144,
   "metadata": {},
   "outputs": [
    {
     "data": {
      "text/plain": [
       "SVC(C=1.0, cache_size=200, class_weight=None, coef0=0.0,\n",
       "  decision_function_shape='ovr', degree=3, gamma='auto', kernel='rbf',\n",
       "  max_iter=-1, probability=False, random_state=None, shrinking=True,\n",
       "  tol=0.001, verbose=False)"
      ]
     },
     "execution_count": 144,
     "metadata": {},
     "output_type": "execute_result"
    }
   ],
   "source": [
    "model2 = SVC(C=1.0, kernel='rbf', degree=3, gamma='auto')\n",
    "model2.fit(X_train,y_train)\n"
   ]
  },
  {
   "cell_type": "code",
   "execution_count": 153,
   "metadata": {},
   "outputs": [
    {
     "name": "stdout",
     "output_type": "stream",
     "text": [
      "Test error = 0.0\n"
     ]
    }
   ],
   "source": [
    "pred2=model2.predict(X_test)\n",
    "error2 = np.sum(pred2 != y_test) / y_test.shape[0]\n",
    "print('Test error = {}'.format(error2))"
   ]
  },
  {
   "cell_type": "code",
   "execution_count": null,
   "metadata": {
    "collapsed": true
   },
   "outputs": [],
   "source": []
  }
 ],
 "metadata": {
  "kernelspec": {
   "display_name": "Python 3",
   "language": "python",
   "name": "python3"
  },
  "language_info": {
   "codemirror_mode": {
    "name": "ipython",
    "version": 3
   },
   "file_extension": ".py",
   "mimetype": "text/x-python",
   "name": "python",
   "nbconvert_exporter": "python",
   "pygments_lexer": "ipython3",
   "version": "3.6.2"
  }
 },
 "nbformat": 4,
 "nbformat_minor": 2
}
