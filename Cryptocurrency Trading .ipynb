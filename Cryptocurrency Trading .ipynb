{
 "cells": [
  {
   "cell_type": "code",
   "execution_count": 133,
   "metadata": {},
   "outputs": [],
   "source": [
    "import numpy as np\n",
    "import pandas as pd\n",
    "import xgboost as xgb\n",
    "from sklearn.model_selection import train_test_split\n",
    "from sklearn.svm import SVC"
   ]
  },
  {
   "cell_type": "code",
   "execution_count": 29,
   "metadata": {},
   "outputs": [
    {
     "data": {
      "text/html": [
       "<div>\n",
       "<style>\n",
       "    .dataframe thead tr:only-child th {\n",
       "        text-align: right;\n",
       "    }\n",
       "\n",
       "    .dataframe thead th {\n",
       "        text-align: left;\n",
       "    }\n",
       "\n",
       "    .dataframe tbody tr th {\n",
       "        vertical-align: top;\n",
       "    }\n",
       "</style>\n",
       "<table border=\"1\" class=\"dataframe\">\n",
       "  <thead>\n",
       "    <tr style=\"text-align: right;\">\n",
       "      <th></th>\n",
       "      <th>0</th>\n",
       "      <th>1</th>\n",
       "      <th>2</th>\n",
       "    </tr>\n",
       "  </thead>\n",
       "  <tbody>\n",
       "    <tr>\n",
       "      <th>0</th>\n",
       "      <td>1478025745</td>\n",
       "      <td>715.000</td>\n",
       "      <td>0.002797</td>\n",
       "    </tr>\n",
       "    <tr>\n",
       "      <th>1</th>\n",
       "      <td>1478031460</td>\n",
       "      <td>720.000</td>\n",
       "      <td>0.001300</td>\n",
       "    </tr>\n",
       "    <tr>\n",
       "      <th>2</th>\n",
       "      <td>1478031491</td>\n",
       "      <td>720.199</td>\n",
       "      <td>0.001264</td>\n",
       "    </tr>\n",
       "    <tr>\n",
       "      <th>3</th>\n",
       "      <td>1478033362</td>\n",
       "      <td>720.199</td>\n",
       "      <td>0.002902</td>\n",
       "    </tr>\n",
       "    <tr>\n",
       "      <th>4</th>\n",
       "      <td>1478033362</td>\n",
       "      <td>720.200</td>\n",
       "      <td>0.001223</td>\n",
       "    </tr>\n",
       "  </tbody>\n",
       "</table>\n",
       "</div>"
      ],
      "text/plain": [
       "            0        1         2\n",
       "0  1478025745  715.000  0.002797\n",
       "1  1478031460  720.000  0.001300\n",
       "2  1478031491  720.199  0.001264\n",
       "3  1478033362  720.199  0.002902\n",
       "4  1478033362  720.200  0.001223"
      ]
     },
     "execution_count": 29,
     "metadata": {},
     "output_type": "execute_result"
    }
   ],
   "source": [
    "data1 = pd.read_csv('http://api.bitcoincharts.com/v1/csv/btcalphaUSD.csv.gz',header = None)\n",
    "data1.head()"
   ]
  },
  {
   "cell_type": "code",
   "execution_count": 30,
   "metadata": {
    "collapsed": true
   },
   "outputs": [],
   "source": [
    "data1['date'] = pd.to_datetime(data1[0],unit='s')\n",
    "data1.columns= ['timestamp','price','volume','date']\n",
    "data1  = data1[data1.timestamp>=1512950400]# after dec 24, 2017"
   ]
  },
  {
   "cell_type": "code",
   "execution_count": 31,
   "metadata": {},
   "outputs": [
    {
     "name": "stderr",
     "output_type": "stream",
     "text": [
      "C:\\Users\\user\\Anaconda3\\lib\\site-packages\\ipykernel_launcher.py:2: FutureWarning: how in .resample() is deprecated\n",
      "the new syntax is .resample(...).ohlc()\n",
      "  \n",
      "C:\\Users\\user\\Anaconda3\\lib\\site-packages\\ipykernel_launcher.py:3: FutureWarning: how in .resample() is deprecated\n",
      "the new syntax is .resample(...).sum()\n",
      "  This is separate from the ipykernel package so we can avoid doing imports until\n"
     ]
    }
   ],
   "source": [
    "data1.index = data1.date\n",
    "bars = data1.price.resample('60min', how='ohlc')\n",
    "volumes = data1.volume.resample('60min', how='sum')\n",
    "data1 = pd.concat([bars,volumes],axis=1)\n",
    "data1['date'] = data1.index"
   ]
  },
  {
   "cell_type": "code",
   "execution_count": 154,
   "metadata": {},
   "outputs": [
    {
     "data": {
      "text/html": [
       "<div>\n",
       "<style>\n",
       "    .dataframe thead tr:only-child th {\n",
       "        text-align: right;\n",
       "    }\n",
       "\n",
       "    .dataframe thead th {\n",
       "        text-align: left;\n",
       "    }\n",
       "\n",
       "    .dataframe tbody tr th {\n",
       "        vertical-align: top;\n",
       "    }\n",
       "</style>\n",
       "<table border=\"1\" class=\"dataframe\">\n",
       "  <thead>\n",
       "    <tr style=\"text-align: right;\">\n",
       "      <th></th>\n",
       "      <th>open</th>\n",
       "      <th>high</th>\n",
       "      <th>low</th>\n",
       "      <th>close</th>\n",
       "      <th>volume</th>\n",
       "      <th>date</th>\n",
       "      <th>ts</th>\n",
       "    </tr>\n",
       "    <tr>\n",
       "      <th>date</th>\n",
       "      <th></th>\n",
       "      <th></th>\n",
       "      <th></th>\n",
       "      <th></th>\n",
       "      <th></th>\n",
       "      <th></th>\n",
       "      <th></th>\n",
       "    </tr>\n",
       "  </thead>\n",
       "  <tbody>\n",
       "    <tr>\n",
       "      <th>2017-12-11 00:00:00</th>\n",
       "      <td>14938.0</td>\n",
       "      <td>15365.0</td>\n",
       "      <td>14938.0</td>\n",
       "      <td>15283.0</td>\n",
       "      <td>18.205027</td>\n",
       "      <td>2017-12-11 00:00:00</td>\n",
       "      <td>1512930600</td>\n",
       "    </tr>\n",
       "    <tr>\n",
       "      <th>2017-12-11 01:00:00</th>\n",
       "      <td>15286.0</td>\n",
       "      <td>15967.0</td>\n",
       "      <td>15286.0</td>\n",
       "      <td>15943.0</td>\n",
       "      <td>10.753708</td>\n",
       "      <td>2017-12-11 01:00:00</td>\n",
       "      <td>1512934200</td>\n",
       "    </tr>\n",
       "    <tr>\n",
       "      <th>2017-12-11 02:00:00</th>\n",
       "      <td>15996.0</td>\n",
       "      <td>16099.0</td>\n",
       "      <td>15717.0</td>\n",
       "      <td>16099.0</td>\n",
       "      <td>17.489776</td>\n",
       "      <td>2017-12-11 02:00:00</td>\n",
       "      <td>1512937800</td>\n",
       "    </tr>\n",
       "    <tr>\n",
       "      <th>2017-12-11 03:00:00</th>\n",
       "      <td>16099.0</td>\n",
       "      <td>16580.0</td>\n",
       "      <td>15797.0</td>\n",
       "      <td>15797.0</td>\n",
       "      <td>18.776254</td>\n",
       "      <td>2017-12-11 03:00:00</td>\n",
       "      <td>1512941400</td>\n",
       "    </tr>\n",
       "    <tr>\n",
       "      <th>2017-12-11 04:00:00</th>\n",
       "      <td>16200.0</td>\n",
       "      <td>16510.0</td>\n",
       "      <td>15820.0</td>\n",
       "      <td>16034.0</td>\n",
       "      <td>23.037675</td>\n",
       "      <td>2017-12-11 04:00:00</td>\n",
       "      <td>1512945000</td>\n",
       "    </tr>\n",
       "  </tbody>\n",
       "</table>\n",
       "</div>"
      ],
      "text/plain": [
       "                        open     high      low    close     volume  \\\n",
       "date                                                                 \n",
       "2017-12-11 00:00:00  14938.0  15365.0  14938.0  15283.0  18.205027   \n",
       "2017-12-11 01:00:00  15286.0  15967.0  15286.0  15943.0  10.753708   \n",
       "2017-12-11 02:00:00  15996.0  16099.0  15717.0  16099.0  17.489776   \n",
       "2017-12-11 03:00:00  16099.0  16580.0  15797.0  15797.0  18.776254   \n",
       "2017-12-11 04:00:00  16200.0  16510.0  15820.0  16034.0  23.037675   \n",
       "\n",
       "                                   date          ts  \n",
       "date                                                 \n",
       "2017-12-11 00:00:00 2017-12-11 00:00:00  1512930600  \n",
       "2017-12-11 01:00:00 2017-12-11 01:00:00  1512934200  \n",
       "2017-12-11 02:00:00 2017-12-11 02:00:00  1512937800  \n",
       "2017-12-11 03:00:00 2017-12-11 03:00:00  1512941400  \n",
       "2017-12-11 04:00:00 2017-12-11 04:00:00  1512945000  "
      ]
     },
     "execution_count": 154,
     "metadata": {},
     "output_type": "execute_result"
    }
   ],
   "source": [
    "data1.head()"
   ]
  },
  {
   "cell_type": "code",
   "execution_count": 33,
   "metadata": {},
   "outputs": [
    {
     "data": {
      "text/plain": [
       "(350, 6)"
      ]
     },
     "execution_count": 33,
     "metadata": {},
     "output_type": "execute_result"
    }
   ],
   "source": [
    "data2 = pd.read_csv('https://finance.google.com/finance/getprices?p=60d&i=3601&f=d,o,h,l,c,v&q=SP600',\n",
    "                    skiprows = 7,header = None)\n",
    "data2.shape"
   ]
  },
  {
   "cell_type": "code",
   "execution_count": 34,
   "metadata": {
    "collapsed": true
   },
   "outputs": [],
   "source": [
    "data2.columns =['date','open','close','high','low','vol']"
   ]
  },
  {
   "cell_type": "code",
   "execution_count": 35,
   "metadata": {
    "collapsed": true
   },
   "outputs": [],
   "source": [
    "data2['date'] = data2['date'].str[1:]"
   ]
  },
  {
   "cell_type": "code",
   "execution_count": 36,
   "metadata": {
    "collapsed": true
   },
   "outputs": [],
   "source": [
    "data2['date'] = pd.to_datetime(data2['date'],unit='s')"
   ]
  },
  {
   "cell_type": "code",
   "execution_count": 37,
   "metadata": {
    "collapsed": true,
    "scrolled": true
   },
   "outputs": [],
   "source": [
    " data1['ts']=data1[['date']].apply(lambda x: x[0].timestamp(), axis=1).astype(int)"
   ]
  },
  {
   "cell_type": "code",
   "execution_count": 38,
   "metadata": {
    "collapsed": true
   },
   "outputs": [],
   "source": [
    "data2['ts'] =data2[['date']].apply(lambda x: x[0].timestamp(), axis=1).astype(int)"
   ]
  },
  {
   "cell_type": "code",
   "execution_count": 39,
   "metadata": {
    "collapsed": true
   },
   "outputs": [],
   "source": [
    "final = data1.merge(data2 , on = 'ts')\n"
   ]
  },
  {
   "cell_type": "code",
   "execution_count": 51,
   "metadata": {
    "collapsed": true
   },
   "outputs": [],
   "source": [
    "final = final.drop(['date_x','ts','date_y'],axis=1)"
   ]
  },
  {
   "cell_type": "code",
   "execution_count": 63,
   "metadata": {
    "collapsed": true,
    "scrolled": true
   },
   "outputs": [],
   "source": [
    "corr_mat = final.corr()"
   ]
  },
  {
   "cell_type": "code",
   "execution_count": 80,
   "metadata": {
    "collapsed": true
   },
   "outputs": [],
   "source": [
    "corr_mat=corr_mat.iloc[0:5,5:10]"
   ]
  },
  {
   "cell_type": "code",
   "execution_count": 84,
   "metadata": {
    "collapsed": true
   },
   "outputs": [],
   "source": [
    "t = [0,0.5,0.2,0.2,0.1]*corr_mat.sum(axis=1)\n"
   ]
  },
  {
   "cell_type": "code",
   "execution_count": 87,
   "metadata": {},
   "outputs": [
    {
     "data": {
      "text/plain": [
       "open_x     0.000000\n",
       "high_x     0.237120\n",
       "low_x      0.093688\n",
       "close_x    0.093135\n",
       "volume    -0.016831\n",
       "dtype: float64"
      ]
     },
     "execution_count": 87,
     "metadata": {},
     "output_type": "execute_result"
    }
   ],
   "source": [
    "t"
   ]
  },
  {
   "cell_type": "code",
   "execution_count": 112,
   "metadata": {
    "collapsed": true,
    "scrolled": true
   },
   "outputs": [],
   "source": [
    "final['trade_pos/neg'] = np.zeros((350,1))"
   ]
  },
  {
   "cell_type": "code",
   "execution_count": 115,
   "metadata": {
    "collapsed": true
   },
   "outputs": [],
   "source": [
    "final['trade_pos/neg'] =np.where(final.close_y>final.open_y,1,0)"
   ]
  },
  {
   "cell_type": "code",
   "execution_count": 118,
   "metadata": {
    "collapsed": true
   },
   "outputs": [],
   "source": [
    "final_data =final.drop(['open_y','close_y','high_y','low_y','vol'],axis=1)"
   ]
  },
  {
   "cell_type": "code",
   "execution_count": 122,
   "metadata": {},
   "outputs": [],
   "source": [
    "X_train,X_test,y_train,y_test = train_test_split(final_data.drop(['trade_pos/neg'],axis=1),final_data['trade_pos/neg'],\n",
    "                                                 test_size=0.05, random_state=42)"
   ]
  },
  {
   "cell_type": "markdown",
   "metadata": {},
   "source": [
    "# Xgboost "
   ]
  },
  {
   "cell_type": "code",
   "execution_count": 157,
   "metadata": {},
   "outputs": [
    {
     "name": "stdout",
     "output_type": "stream",
     "text": [
      "Test error = 0.0\n"
     ]
    }
   ],
   "source": [
    "xg_train = xgb.DMatrix(X_train,label =y_train)\n",
    "xg_test = xgb.DMatrix(X_test,label=y_test)\n",
    "param ={}\n",
    "\n",
    "param['objective'] = 'multi:softmax'  #  'multi:softprob' for predict probability\n",
    "param['eta'] = 0.1\n",
    "param['max_depth'] = 3\n",
    "param['silent'] = 0\n",
    "param['nthread'] = 4\n",
    "\n",
    "\n",
    "param['num_class'] = 2\n",
    "watchlist = [(xg_train, 'train'), (xg_test, 'test')]\n",
    "num_round = 100\n",
    "\n",
    "bst = xgb.train(param, xg_train)  #,watchlist)\n",
    "pred = bst.predict(xg_test)\n",
    "error = np.sum(pred != y_test) / y_test.shape[0]\n",
    "print('Test error = {}'.format(error))"
   ]
  },
  {
   "cell_type": "markdown",
   "metadata": {},
   "source": [
    "#  SVM"
   ]
  },
  {
   "cell_type": "code",
   "execution_count": 144,
   "metadata": {},
   "outputs": [
    {
     "data": {
      "text/plain": [
       "SVC(C=1.0, cache_size=200, class_weight=None, coef0=0.0,\n",
       "  decision_function_shape='ovr', degree=3, gamma='auto', kernel='rbf',\n",
       "  max_iter=-1, probability=False, random_state=None, shrinking=True,\n",
       "  tol=0.001, verbose=False)"
      ]
     },
     "execution_count": 144,
     "metadata": {},
     "output_type": "execute_result"
    }
   ],
   "source": [
    "model2 = SVC(C=1.0, kernel='rbf', degree=3, gamma='auto')\n",
    "model2.fit(X_train,y_train)\n"
   ]
  },
  {
   "cell_type": "code",
   "execution_count": 153,
   "metadata": {},
   "outputs": [
    {
     "name": "stdout",
     "output_type": "stream",
     "text": [
      "Test error = 0.0\n"
     ]
    }
   ],
   "source": [
    "pred2=model2.predict(X_test)\n",
    "error2 = np.sum(pred2 != y_test) / y_test.shape[0]\n",
    "print('Test error = {}'.format(error2))"
   ]
  },
  {
   "cell_type": "code",
   "execution_count": null,
   "metadata": {
    "collapsed": true
   },
   "outputs": [],
   "source": []
  }
 ],
 "metadata": {
  "kernelspec": {
   "display_name": "Python 3",
   "language": "python",
   "name": "python3"
  },
  "language_info": {
   "codemirror_mode": {
    "name": "ipython",
    "version": 3
   },
   "file_extension": ".py",
   "mimetype": "text/x-python",
   "name": "python",
   "nbconvert_exporter": "python",
   "pygments_lexer": "ipython3",
   "version": "3.6.2"
  }
 },
 "nbformat": 4,
 "nbformat_minor": 2
}
